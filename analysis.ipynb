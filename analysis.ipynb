{
 "cells": [
  {
   "cell_type": "code",
   "execution_count": 1,
   "id": "e745a49e",
   "metadata": {},
   "outputs": [],
   "source": [
    "import numpy as np\n",
    "import pandas as pd"
   ]
  },
  {
   "cell_type": "code",
   "execution_count": 7,
   "id": "c4af9d1d",
   "metadata": {},
   "outputs": [],
   "source": [
    "train = pd.read_csv(\"train.csv\")\n",
    "test = pd.read_csv(\"test.csv\")\n",
    "stores = pd.read_csv(\"stores.csv\")\n",
    "features = pd.read_csv(\"features.csv\")"
   ]
  },
  {
   "cell_type": "code",
   "execution_count": 18,
   "id": "9d7e7786",
   "metadata": {},
   "outputs": [
    {
     "name": "stdout",
     "output_type": "stream",
     "text": [
      "        Store  Dept        Date  Weekly_Sales  IsHoliday\n",
      "0           1     1  2010-02-05      24924.50      False\n",
      "1           1     1  2010-02-12      46039.49       True\n",
      "2           1     1  2010-02-19      41595.55      False\n",
      "3           1     1  2010-02-26      19403.54      False\n",
      "4           1     1  2010-03-05      21827.90      False\n",
      "...       ...   ...         ...           ...        ...\n",
      "421565     45    98  2012-09-28        508.37      False\n",
      "421566     45    98  2012-10-05        628.10      False\n",
      "421567     45    98  2012-10-12       1061.02      False\n",
      "421568     45    98  2012-10-19        760.01      False\n",
      "421569     45    98  2012-10-26       1076.80      False\n",
      "\n",
      "[421570 rows x 5 columns]\n",
      "        Store  Dept        Date  IsHoliday\n",
      "0           1     1  2012-11-02      False\n",
      "1           1     1  2012-11-09      False\n",
      "2           1     1  2012-11-16      False\n",
      "3           1     1  2012-11-23       True\n",
      "4           1     1  2012-11-30      False\n",
      "...       ...   ...         ...        ...\n",
      "115059     45    98  2013-06-28      False\n",
      "115060     45    98  2013-07-05      False\n",
      "115061     45    98  2013-07-12      False\n",
      "115062     45    98  2013-07-19      False\n",
      "115063     45    98  2013-07-26      False\n",
      "\n",
      "[115064 rows x 4 columns]\n"
     ]
    }
   ],
   "source": [
    "print(train)\n",
    "print(test)"
   ]
  },
  {
   "cell_type": "code",
   "execution_count": 17,
   "id": "759dbae1",
   "metadata": {},
   "outputs": [
    {
     "name": "stdout",
     "output_type": "stream",
     "text": [
      "<class 'pandas.core.frame.DataFrame'>\n",
      "RangeIndex: 421570 entries, 0 to 421569\n",
      "Data columns (total 5 columns):\n",
      " #   Column        Non-Null Count   Dtype  \n",
      "---  ------        --------------   -----  \n",
      " 0   Store         421570 non-null  int64  \n",
      " 1   Dept          421570 non-null  int64  \n",
      " 2   Date          421570 non-null  object \n",
      " 3   Weekly_Sales  421570 non-null  float64\n",
      " 4   IsHoliday     421570 non-null  bool   \n",
      "dtypes: bool(1), float64(1), int64(2), object(1)\n",
      "memory usage: 13.3+ MB\n",
      "None\n",
      "<class 'pandas.core.frame.DataFrame'>\n",
      "RangeIndex: 115064 entries, 0 to 115063\n",
      "Data columns (total 4 columns):\n",
      " #   Column     Non-Null Count   Dtype \n",
      "---  ------     --------------   ----- \n",
      " 0   Store      115064 non-null  int64 \n",
      " 1   Dept       115064 non-null  int64 \n",
      " 2   Date       115064 non-null  object\n",
      " 3   IsHoliday  115064 non-null  bool  \n",
      "dtypes: bool(1), int64(2), object(1)\n",
      "memory usage: 2.7+ MB\n",
      "None\n"
     ]
    }
   ],
   "source": [
    "print(train.info())\n",
    "print(test.info())"
   ]
  },
  {
   "cell_type": "code",
   "execution_count": 16,
   "id": "b271d088",
   "metadata": {},
   "outputs": [
    {
     "name": "stdout",
     "output_type": "stream",
     "text": [
      "        Store  Dept        Date  Weekly_Sales  IsHoliday\n",
      "0           1     1  2010-02-05      24924.50      False\n",
      "1           1     1  2010-02-12      46039.49       True\n",
      "2           1     1  2010-02-19      41595.55      False\n",
      "3           1     1  2010-02-26      19403.54      False\n",
      "4           1     1  2010-03-05      21827.90      False\n",
      "...       ...   ...         ...           ...        ...\n",
      "421565     45    98  2012-09-28        508.37      False\n",
      "421566     45    98  2012-10-05        628.10      False\n",
      "421567     45    98  2012-10-12       1061.02      False\n",
      "421568     45    98  2012-10-19        760.01      False\n",
      "421569     45    98  2012-10-26       1076.80      False\n",
      "\n",
      "[421570 rows x 5 columns]\n"
     ]
    }
   ],
   "source": [
    "print(train)"
   ]
  },
  {
   "cell_type": "code",
   "execution_count": null,
   "id": "54e139a0",
   "metadata": {},
   "outputs": [],
   "source": []
  }
 ],
 "metadata": {
  "kernelspec": {
   "display_name": "Python 3",
   "language": "python",
   "name": "python3"
  },
  "language_info": {
   "codemirror_mode": {
    "name": "ipython",
    "version": 3
   },
   "file_extension": ".py",
   "mimetype": "text/x-python",
   "name": "python",
   "nbconvert_exporter": "python",
   "pygments_lexer": "ipython3",
   "version": "3.8.8"
  }
 },
 "nbformat": 4,
 "nbformat_minor": 5
}
